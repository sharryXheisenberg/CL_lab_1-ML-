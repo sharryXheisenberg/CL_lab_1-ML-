{
 "cells": [
  {
   "cell_type": "markdown",
   "id": "58d96f6b",
   "metadata": {},
   "source": [
    "# Name - Saurabh Pande\n",
    "# Roll no - 2447006 , Batch - A"
   ]
  },
  {
   "cell_type": "markdown",
   "id": "554b4659",
   "metadata": {},
   "source": [
    "### problem statement - Implement Reinforcement Learning using an example of a maze environment that theagent needs to explore."
   ]
  },
  {
   "cell_type": "code",
   "execution_count": 18,
   "id": "848a9895",
   "metadata": {},
   "outputs": [],
   "source": [
    "import numpy as np\n",
    "\n",
    "maze = np.array([[0, 0, 0, 1],\n",
    "                 [0, 1, 0, 1],\n",
    "             \n",
    "                 [0, 0, 0, 0],\n",
    "                 [1, 0, 1, 0]])"
   ]
  },
  {
   "cell_type": "code",
   "execution_count": 19,
   "id": "7e57aa42",
   "metadata": {},
   "outputs": [],
   "source": [
    "# Parameters\n",
    "actions = ['up', 'down', 'left', 'right']\n",
    "q_table = np.zeros((maze.shape[0], maze.shape[1], len(actions)))\n",
    "gamma = 0.9 \n",
    "alpha = 0.8  \n",
    "epsilon = 0.1  "
   ]
  },
  {
   "cell_type": "code",
   "execution_count": 20,
   "id": "6fc3cacd",
   "metadata": {},
   "outputs": [],
   "source": [
    "# Rewards and goal\n",
    "goal = (3, 3)\n",
    "rewards = np.zeros_like(maze)\n",
    "rewards[goal] = 1"
   ]
  },
  {
   "cell_type": "code",
   "execution_count": 21,
   "id": "16f71bb5",
   "metadata": {},
   "outputs": [],
   "source": [
    "# Movement definitions\n",
    "def move(state, action):\n",
    "    if action == 'up' and state[0] > 0:\n",
    "        return (state[0] - 1, state[1])\n",
    "    elif action == 'down' and state[0] < maze.shape[0] - 1:\n",
    "        return (state[0] + 1, state[1])\n",
    "    elif action == 'left' and state[1] > 0:\n",
    "        return (state[0], state[1] - 1)\n",
    "    elif action == 'right' and state[1] < maze.shape[1] - 1:\n",
    "        return (state[0], state[1] + 1)\n",
    "    return state\n",
    "\n"
   ]
  },
  {
   "cell_type": "code",
   "execution_count": 22,
   "id": "3f23f0a7",
   "metadata": {},
   "outputs": [],
   "source": [
    "# Q-learning algorithm\n",
    "def q_learning(episodes=1000):\n",
    "    for _ in range(episodes):\n",
    "        state = (0, 0)\n",
    "        while state != goal:\n",
    "            if np.random.uniform(0, 1) < epsilon: \n",
    "                action_idx = np.random.choice(len(actions))\n",
    "            else:  \n",
    "                action_idx = np.argmax(q_table[state[0], state[1]])\n",
    "\n",
    "            next_state = move(state, actions[action_idx])\n",
    "            reward = rewards[next_state]\n",
    "            q_value = q_table[state[0], state[1], action_idx]\n",
    "            \n",
    "            \n",
    "            q_table[state[0], state[1], action_idx] = q_value + alpha * (reward + gamma * np.max(q_table[next_state[0], next_state[1]]) - q_value)\n",
    "            state = next_state\n",
    "\n",
    "\n"
   ]
  },
  {
   "cell_type": "code",
   "execution_count": 23,
   "id": "159293e3",
   "metadata": {},
   "outputs": [
    {
     "name": "stdout",
     "output_type": "stream",
     "text": [
      "[[[0.531441   0.4782969  0.531441   0.59049   ]\n",
      "  [0.59049    0.531441   0.531441   0.6561    ]\n",
      "  [0.6561     0.59049    0.59049    0.729     ]\n",
      "  [0.729      0.81       0.6561     0.729     ]]\n",
      "\n",
      " [[0.531441   0.         0.         0.        ]\n",
      "  [0.59049    0.29386562 0.         0.5668704 ]\n",
      "  [0.6561     0.         0.         0.648     ]\n",
      "  [0.729      0.9        0.59049    0.81      ]]\n",
      "\n",
      " [[0.38263732 0.         0.         0.        ]\n",
      "  [0.50678209 0.         0.         0.        ]\n",
      "  [0.46846504 0.         0.         0.9       ]\n",
      "  [0.81       1.         0.81       0.9       ]]\n",
      "\n",
      " [[0.         0.         0.         0.        ]\n",
      "  [0.         0.         0.         0.        ]\n",
      "  [0.         0.         0.         0.        ]\n",
      "  [0.         0.         0.         0.        ]]]\n"
     ]
    }
   ],
   "source": [
    "q_learning()\n",
    "print(q_table)"
   ]
  },
  {
   "cell_type": "code",
   "execution_count": null,
   "id": "92727479",
   "metadata": {},
   "outputs": [],
   "source": []
  }
 ],
 "metadata": {
  "kernelspec": {
   "display_name": "Python 3 (ipykernel)",
   "language": "python",
   "name": "python3"
  },
  "language_info": {
   "codemirror_mode": {
    "name": "ipython",
    "version": 3
   },
   "file_extension": ".py",
   "mimetype": "text/x-python",
   "name": "python",
   "nbconvert_exporter": "python",
   "pygments_lexer": "ipython3",
   "version": "3.9.12"
  }
 },
 "nbformat": 4,
 "nbformat_minor": 5
}
