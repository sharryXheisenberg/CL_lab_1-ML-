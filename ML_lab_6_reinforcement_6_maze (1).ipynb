{
 "cells": [
  {
   "cell_type": "code",
   "execution_count": 3,
   "id": "14a33f8c-12db-4a0e-a9e1-59d5c6d6a9db",
   "metadata": {},
   "outputs": [],
   "source": [
    "import numpy as np\n",
    "import random\n"
   ]
  },
  {
   "cell_type": "code",
   "execution_count": 4,
   "id": "9ba609fa-825b-42ef-8619-4bd26573dc05",
   "metadata": {},
   "outputs": [],
   "source": [
    "maze_size = 5\n",
    "maze = np.zeros((maze_size, maze_size))\n",
    "goal_position = (4, 4)\n",
    "maze[goal_position] = 1  # Set the goal at the bottom-right corner\n",
    "\n",
    "\n",
    "actions = ['up', 'down', 'left', 'right']\n",
    "q_table = np.zeros((maze_size, maze_size, len(actions)))  # Initialize Q-table\n",
    "learning_rate = 0.1\n",
    "discount_factor = 0.9\n",
    "exploration_rate = 1.0\n",
    "max_exploration_rate = 1.0\n",
    "min_exploration_rate = 0.01\n",
    "exploration_decay_rate = 0.001\n",
    "episodes = 500"
   ]
  },
  {
   "cell_type": "code",
   "execution_count": 5,
   "id": "ff8df423-9a6c-4de9-a475-e895de8f87ff",
   "metadata": {},
   "outputs": [],
   "source": [
    "# Define action outcomes\n",
    "def get_new_position(position, action):\n",
    "    x, y = position\n",
    "    if action == 'up' and x > 0:\n",
    "        x -= 1\n",
    "    elif action == 'down' and x < maze_size - 1:\n",
    "        x += 1\n",
    "    elif action == 'left' and y > 0:\n",
    "        y -= 1\n",
    "    elif action == 'right' and y < maze_size - 1:\n",
    "        y += 1\n",
    "    return (x, y)"
   ]
  },
  {
   "cell_type": "code",
   "execution_count": 6,
   "id": "6df7183c-8f24-4346-b436-0e1cbb9e5479",
   "metadata": {},
   "outputs": [],
   "source": [
    "# Training\n",
    "for episode in range(episodes):\n",
    "    state = (0, 0)  # Start position\n",
    "    done = False\n",
    "    \n",
    "    while not done:\n",
    "        # Choose an action\n",
    "        if random.uniform(0, 1) < exploration_rate:\n",
    "            action_index = random.choice(range(len(actions)))\n",
    "        else:\n",
    "            action_index = np.argmax(q_table[state[0], state[1], :])\n",
    "\n",
    "        action = actions[action_index]\n",
    "        new_state = get_new_position(state, action)\n",
    "        \n",
    "        # Reward for reaching the goal\n",
    "        reward = 1 if new_state == goal_position else -0.1\n",
    "        \n",
    "        # Update Q-value\n",
    "        old_value = q_table[state[0], state[1], action_index]\n",
    "        next_max = np.max(q_table[new_state[0], new_state[1], :])\n",
    "        q_table[state[0], state[1], action_index] = old_value + learning_rate * (reward + discount_factor * next_max - old_value)\n",
    "        \n",
    "        state = new_state\n",
    "        if state == goal_position:\n",
    "            done = True\n",
    "\n",
    "    # Decay exploration rate\n",
    "    exploration_rate = min_exploration_rate + (max_exploration_rate - min_exploration_rate) * np.exp(-exploration_decay_rate * episode)"
   ]
  },
  {
   "cell_type": "code",
   "execution_count": 7,
   "id": "fa36c2df-0402-4b9a-b801-40bf1d292744",
   "metadata": {},
   "outputs": [
    {
     "name": "stdout",
     "output_type": "stream",
     "text": [
      "Path taken by the agent: [(0, 0), (0, 1), (1, 1), (1, 2), (1, 3), (2, 3), (3, 3), (4, 3), (4, 4)]\n"
     ]
    }
   ],
   "source": [
    "state = (0, 0)\n",
    "path = [state]\n",
    "while state != goal_position:\n",
    "    action_index = np.argmax(q_table[state[0], state[1], :])\n",
    "    action = actions[action_index]\n",
    "    state = get_new_position(state, action)\n",
    "    path.append(state)\n",
    "\n",
    "print(\"Path taken by the agent:\", path)"
   ]
  },
  {
   "cell_type": "code",
   "execution_count": null,
   "id": "c8062e5c-451c-42f2-bc55-dd793faee1cb",
   "metadata": {},
   "outputs": [],
   "source": []
  },
  {
   "cell_type": "code",
   "execution_count": null,
   "id": "a2acf2ef-c924-4ec1-8a8f-2b302b8a199d",
   "metadata": {},
   "outputs": [],
   "source": []
  },
  {
   "cell_type": "code",
   "execution_count": null,
   "id": "4ba44abd-8966-4c7d-a055-76fd1aa29bc7",
   "metadata": {},
   "outputs": [],
   "source": [
    "\n"
   ]
  },
  {
   "cell_type": "code",
   "execution_count": null,
   "id": "22f28c60-8f1b-4f7d-9e93-9e3847d04447",
   "metadata": {},
   "outputs": [],
   "source": []
  },
  {
   "cell_type": "code",
   "execution_count": null,
   "id": "db0a2e4a-aa55-4855-8b23-af31171f2a9d",
   "metadata": {},
   "outputs": [],
   "source": []
  },
  {
   "cell_type": "code",
   "execution_count": null,
   "id": "90fb96a9-f308-4156-a163-01231e4b85a4",
   "metadata": {},
   "outputs": [],
   "source": []
  }
 ],
 "metadata": {
  "kernelspec": {
   "display_name": "Python 3 (ipykernel)",
   "language": "python",
   "name": "python3"
  },
  "language_info": {
   "codemirror_mode": {
    "name": "ipython",
    "version": 3
   },
   "file_extension": ".py",
   "mimetype": "text/x-python",
   "name": "python",
   "nbconvert_exporter": "python",
   "pygments_lexer": "ipython3",
   "version": "3.12.6"
  }
 },
 "nbformat": 4,
 "nbformat_minor": 5
}
