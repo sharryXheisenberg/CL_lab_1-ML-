{
 "cells": [
  {
   "cell_type": "code",
   "execution_count": 1,
   "id": "79aa055e-b4ec-4d9d-9435-b84816b7a0a0",
   "metadata": {},
   "outputs": [
    {
     "name": "stdout",
     "output_type": "stream",
     "text": [
      "\n",
      "Learned path:\n",
      "[['P' 'P' 'P' ' ' 'X']\n",
      " ['X' 'X' 'P' 'X' ' ']\n",
      " [' ' ' ' 'P' 'X' ' ']\n",
      " [' ' 'X' 'P' 'P' 'P']\n",
      " [' ' 'X' ' ' 'X' 'G']]\n"
     ]
    }
   ],
   "source": [
    "import numpy as np\n",
    "import random\n",
    "\n",
    "# Define the maze environment (5x5 grid)\n",
    "maze = np.array([\n",
    "    ['S', ' ', ' ', ' ', 'X'],\n",
    "    ['X', 'X', ' ', 'X', ' '],\n",
    "    [' ', ' ', ' ', 'X', ' '],\n",
    "    [' ', 'X', ' ', ' ', ' '],\n",
    "    [' ', 'X', ' ', 'X', 'G']\n",
    "])\n",
    "start, goal = (0, 0), (4, 4)\n",
    "actions = {'up': (-1, 0), 'down': (1, 0), 'left': (0, -1), 'right': (0, 1)}\n",
    "q_table = np.zeros((*maze.shape, len(actions)))\n",
    "\n",
    "# Q-learning parameters\n",
    "alpha, gamma, epsilon = 0.1, 0.9, 1.0\n",
    "episodes, max_steps = 500, 50\n",
    "\n",
    "# Reward function\n",
    "def get_reward(state):\n",
    "    return 10 if state == goal else -10 if maze[state] == 'X' else -1\n",
    "\n",
    "# Q-learning algorithm\n",
    "for ep in range(episodes):\n",
    "    state = start\n",
    "    for _ in range(max_steps):\n",
    "        # Select action (epsilon-greedy)\n",
    "        if random.uniform(0, 1) < epsilon:\n",
    "            action = random.choice(list(actions.keys()))\n",
    "        else:\n",
    "            action = list(actions.keys())[np.argmax(q_table[state])]\n",
    "        \n",
    "        # Take action and observe next state\n",
    "        move = actions[action]\n",
    "        next_state = (state[0] + move[0], state[1] + move[1])\n",
    "        if not (0 <= next_state[0] < maze.shape[0] and 0 <= next_state[1] < maze.shape[1]) or maze[next_state] == 'X':\n",
    "            next_state = state  # Invalid move, stay in place\n",
    "\n",
    "        # Update Q-table\n",
    "        reward = get_reward(next_state)\n",
    "        best_next_q = np.max(q_table[next_state])\n",
    "        q_table[state + (list(actions.keys()).index(action),)] += alpha * (reward + gamma * best_next_q - q_table[state + (list(actions.keys()).index(action),)])\n",
    "        \n",
    "        state = next_state\n",
    "        if state == goal:\n",
    "            break\n",
    "    \n",
    "    # Decay epsilon\n",
    "    epsilon = max(0.1, epsilon * 0.99)\n",
    "\n",
    "# Display learned path\n",
    "def print_path():\n",
    "    path_maze = maze.copy()\n",
    "    state = start\n",
    "    while state != goal:\n",
    "        action = list(actions.keys())[np.argmax(q_table[state])]\n",
    "        move = actions[action]\n",
    "        next_state = (state[0] + move[0], state[1] + move[1])\n",
    "        if next_state == state or maze[next_state] == 'X': break\n",
    "        path_maze[state] = 'P'\n",
    "        state = next_state\n",
    "    path_maze[goal] = 'G'\n",
    "    print(\"\\nLearned path:\")\n",
    "    print(path_maze)\n",
    "\n",
    "print_path()\n"
   ]
  },
  {
   "cell_type": "code",
   "execution_count": null,
   "id": "2b170a2d-6018-4606-bd64-64a616e50146",
   "metadata": {},
   "outputs": [],
   "source": []
  }
 ],
 "metadata": {
  "kernelspec": {
   "display_name": "Python 3 (ipykernel)",
   "language": "python",
   "name": "python3"
  },
  "language_info": {
   "codemirror_mode": {
    "name": "ipython",
    "version": 3
   },
   "file_extension": ".py",
   "mimetype": "text/x-python",
   "name": "python",
   "nbconvert_exporter": "python",
   "pygments_lexer": "ipython3",
   "version": "3.12.4"
  }
 },
 "nbformat": 4,
 "nbformat_minor": 5
}
